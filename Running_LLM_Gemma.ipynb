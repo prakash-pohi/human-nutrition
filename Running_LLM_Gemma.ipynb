{
 "cells": [
  {
   "cell_type": "code",
   "execution_count": 1,
   "id": "045e0fbd-4bd8-433b-b90f-805f854b67ed",
   "metadata": {},
   "outputs": [],
   "source": [
    "import pickle\n",
    "import numpy as np\n",
    "import os\n",
    "import sys\n",
    "import json\n",
    "import torch"
   ]
  },
  {
   "cell_type": "code",
   "execution_count": 3,
   "id": "c74c21ff-8a55-4bc0-bbec-1a20dd3c7d9f",
   "metadata": {},
   "outputs": [
    {
     "data": {
      "text/plain": [
       "[{'page_number': -39,\n",
       "  'sentence_chunk': 'Human Nutrition: 2020 \\nEdition \\nUNIVERSITY OF HAWAI‘I AT MĀNOA \\nFOOD SCIENCE AND HUMAN \\nNUTRITION PROGRAM \\nALAN TITCHENAL, SKYLAR HARA, \\nNOEMI ARCEO CAACBAY, WILLIAM \\nMEINKE-LAU, YA-YUN YANG, MARIE \\nKAINOA FIALKOWSKI REVILLA, \\nJENNIFER DRAPER, GEMADY \\nLANGFELDER, CHERYL GIBBY, CHYNA \\nNICOLE CHUN, AND ALLISON \\nCALABRESE',\n",
       "  'chunk_char_count': 320,\n",
       "  'chunk_word_count': 42,\n",
       "  'chunk_token_count': 80.0,\n",
       "  'id': '1bb0eb1b87a146f8986f42cfe65bcc4f',\n",
       "  'embedding_numpy': array([-0.01989893,  0.01859011,  0.0209169 , ...,  0.00927082,\n",
       "         -0.01116134, -0.01302762])},\n",
       " {'page_number': -38,\n",
       "  'sentence_chunk': 'Human Nutrition: 2020 Edition by University of Hawai‘i at Mānoa Food Science and \\nHuman Nutrition Program is licensed under a Creative Commons Attribution 4.0 \\nInternational License, except where otherwise noted.',\n",
       "  'chunk_char_count': 212,\n",
       "  'chunk_word_count': 30,\n",
       "  'chunk_token_count': 53.0,\n",
       "  'id': 'f4c9c0382f4c450fbf051e8ff3685007',\n",
       "  'embedding_numpy': array([ 0.00021533,  0.0150892 ,  0.01845744, ...,  0.01112258,\n",
       "         -0.01196772, -0.00748291])},\n",
       " {'page_number': -37,\n",
       "  'sentence_chunk': 'Contents \\nPreface \\nUniversity of Hawai‘i at Mānoa Food Science and \\nHuman Nutrition Program and Human Nutrition \\nProgram \\nxxv \\nAbout the Contributors \\nUniversity of Hawai‘i at Mānoa Food Science and \\nHuman Nutrition Program and Human Nutrition \\nProgram \\nxxvi \\nAcknowledgements \\nUniversity of Hawai‘i at Mānoa Food Science and \\nHuman Nutrition Program and Human Nutrition \\nProgram \\nxl \\nPart\\xa0I.\\xa0Chapter 1. Basic Concepts in Nutrition \\nIntroduction \\nUniversity of Hawai‘i at Mānoa Food Science and \\nHuman Nutrition Program and Human Nutrition \\nProgram \\n3 \\nFood Quality \\nUniversity of Hawai‘i at Mānoa Food Science and \\nHuman Nutrition Program and Human Nutrition \\nProgram \\n14 \\nUnits of Measure \\nUniversity of Hawai‘i at Mānoa Food Science and \\nHuman Nutrition Program and Human Nutrition \\nProgram \\n18',\n",
       "  'chunk_char_count': 797,\n",
       "  'chunk_word_count': 114,\n",
       "  'chunk_token_count': 199.25,\n",
       "  'id': '4a1745f178b2407a8c3686be0a9ca5e9',\n",
       "  'embedding_numpy': array([ 0.011814  , -0.00693418,  0.04935157, ...,  0.02026098,\n",
       "         -0.02037871, -0.01099579])}]"
      ]
     },
     "execution_count": 3,
     "metadata": {},
     "output_type": "execute_result"
    }
   ],
   "source": [
    "import pickle\n",
    "\n",
    "with open(\"data.pkl\", \"rb\") as f:\n",
    "    reloaded_data = pickle.load(f)\n",
    "    \n",
    "reloaded_data[:3]"
   ]
  },
  {
   "cell_type": "code",
   "execution_count": 4,
   "id": "61128c73-5b4b-40aa-8baa-31c3bafbcd93",
   "metadata": {},
   "outputs": [],
   "source": [
    "embedding_np_list = [content['embedding_numpy'] for content in reloaded_data] "
   ]
  },
  {
   "cell_type": "code",
   "execution_count": 5,
   "id": "e9215cea-cb6f-42b4-918a-ef91b87a9789",
   "metadata": {},
   "outputs": [],
   "source": [
    "embed_tensor = torch.tensor(np.array(embedding_np_list), dtype=torch.float32)"
   ]
  },
  {
   "cell_type": "code",
   "execution_count": 5,
   "id": "a2834d47-b02e-4957-80b9-8d7fe96f98d4",
   "metadata": {},
   "outputs": [
    {
     "data": {
      "text/plain": [
       "torch.Size([1683, 1536])"
      ]
     },
     "execution_count": 5,
     "metadata": {},
     "output_type": "execute_result"
    }
   ],
   "source": [
    "embed_tensor.shape"
   ]
  },
  {
   "cell_type": "code",
   "execution_count": 6,
   "id": "1fb30eae-5eea-4298-aa0f-2b29b412cd96",
   "metadata": {},
   "outputs": [],
   "source": [
    "OPEN_API_KEY = os.getenv(\"OPEN_API_KEY\")"
   ]
  },
  {
   "cell_type": "code",
   "execution_count": 21,
   "id": "f7b258f4-60b4-4dbd-bfe9-f961cb2c0dac",
   "metadata": {},
   "outputs": [
    {
     "name": "stdout",
     "output_type": "stream",
     "text": [
      "Requirement already satisfied: openai in /opt/conda/lib/python3.10/site-packages (1.33.0)\n",
      "Requirement already satisfied: transformers in /opt/conda/lib/python3.10/site-packages (4.41.2)\n",
      "Collecting sentence_transformers\n",
      "  Downloading sentence_transformers-3.0.1-py3-none-any.whl.metadata (10 kB)\n",
      "Requirement already satisfied: anyio<5,>=3.5.0 in /opt/conda/lib/python3.10/site-packages (from openai) (4.4.0)\n",
      "Requirement already satisfied: distro<2,>=1.7.0 in /opt/conda/lib/python3.10/site-packages (from openai) (1.8.0)\n",
      "Requirement already satisfied: httpx<1,>=0.23.0 in /opt/conda/lib/python3.10/site-packages (from openai) (0.27.0)\n",
      "Requirement already satisfied: pydantic<3,>=1.9.0 in /opt/conda/lib/python3.10/site-packages (from openai) (2.7.3)\n",
      "Requirement already satisfied: sniffio in /opt/conda/lib/python3.10/site-packages (from openai) (1.3.1)\n",
      "Requirement already satisfied: tqdm>4 in /opt/conda/lib/python3.10/site-packages (from openai) (4.65.0)\n",
      "Requirement already satisfied: typing-extensions<5,>=4.7 in /opt/conda/lib/python3.10/site-packages (from openai) (4.9.0)\n",
      "Requirement already satisfied: filelock in /opt/conda/lib/python3.10/site-packages (from transformers) (3.13.1)\n",
      "Requirement already satisfied: huggingface-hub<1.0,>=0.23.0 in /opt/conda/lib/python3.10/site-packages (from transformers) (0.23.3)\n",
      "Requirement already satisfied: numpy>=1.17 in /opt/conda/lib/python3.10/site-packages (from transformers) (1.26.3)\n",
      "Requirement already satisfied: packaging>=20.0 in /opt/conda/lib/python3.10/site-packages (from transformers) (23.1)\n",
      "Requirement already satisfied: pyyaml>=5.1 in /opt/conda/lib/python3.10/site-packages (from transformers) (6.0.1)\n",
      "Requirement already satisfied: regex!=2019.12.17 in /opt/conda/lib/python3.10/site-packages (from transformers) (2024.5.15)\n",
      "Requirement already satisfied: requests in /opt/conda/lib/python3.10/site-packages (from transformers) (2.31.0)\n",
      "Requirement already satisfied: tokenizers<0.20,>=0.19 in /opt/conda/lib/python3.10/site-packages (from transformers) (0.19.1)\n",
      "Requirement already satisfied: safetensors>=0.4.1 in /opt/conda/lib/python3.10/site-packages (from transformers) (0.4.3)\n",
      "Requirement already satisfied: torch>=1.11.0 in /opt/conda/lib/python3.10/site-packages (from sentence_transformers) (2.2.0)\n",
      "Collecting scikit-learn (from sentence_transformers)\n",
      "  Downloading scikit_learn-1.5.0-cp310-cp310-manylinux_2_17_x86_64.manylinux2014_x86_64.whl.metadata (11 kB)\n",
      "Collecting scipy (from sentence_transformers)\n",
      "  Downloading scipy-1.13.1-cp310-cp310-manylinux_2_17_x86_64.manylinux2014_x86_64.whl.metadata (60 kB)\n",
      "\u001b[2K     \u001b[90m━━━━━━━━━━━━━━━━━━━━━━━━━━━━━━━━━━━━━━━━\u001b[0m \u001b[32m60.6/60.6 kB\u001b[0m \u001b[31m7.0 MB/s\u001b[0m eta \u001b[36m0:00:00\u001b[0m\n",
      "\u001b[?25hRequirement already satisfied: Pillow in /opt/conda/lib/python3.10/site-packages (from sentence_transformers) (10.0.1)\n",
      "Requirement already satisfied: idna>=2.8 in /opt/conda/lib/python3.10/site-packages (from anyio<5,>=3.5.0->openai) (3.4)\n",
      "Requirement already satisfied: exceptiongroup>=1.0.2 in /opt/conda/lib/python3.10/site-packages (from anyio<5,>=3.5.0->openai) (1.2.0)\n",
      "Requirement already satisfied: certifi in /opt/conda/lib/python3.10/site-packages (from httpx<1,>=0.23.0->openai) (2023.11.17)\n",
      "Requirement already satisfied: httpcore==1.* in /opt/conda/lib/python3.10/site-packages (from httpx<1,>=0.23.0->openai) (1.0.5)\n",
      "Requirement already satisfied: h11<0.15,>=0.13 in /opt/conda/lib/python3.10/site-packages (from httpcore==1.*->httpx<1,>=0.23.0->openai) (0.14.0)\n",
      "Requirement already satisfied: fsspec>=2023.5.0 in /opt/conda/lib/python3.10/site-packages (from huggingface-hub<1.0,>=0.23.0->transformers) (2023.12.2)\n",
      "Requirement already satisfied: annotated-types>=0.4.0 in /opt/conda/lib/python3.10/site-packages (from pydantic<3,>=1.9.0->openai) (0.7.0)\n",
      "Requirement already satisfied: pydantic-core==2.18.4 in /opt/conda/lib/python3.10/site-packages (from pydantic<3,>=1.9.0->openai) (2.18.4)\n",
      "Requirement already satisfied: sympy in /opt/conda/lib/python3.10/site-packages (from torch>=1.11.0->sentence_transformers) (1.12)\n",
      "Requirement already satisfied: networkx in /opt/conda/lib/python3.10/site-packages (from torch>=1.11.0->sentence_transformers) (3.1)\n",
      "Requirement already satisfied: jinja2 in /opt/conda/lib/python3.10/site-packages (from torch>=1.11.0->sentence_transformers) (3.1.2)\n",
      "Requirement already satisfied: charset-normalizer<4,>=2 in /opt/conda/lib/python3.10/site-packages (from requests->transformers) (2.0.4)\n",
      "Requirement already satisfied: urllib3<3,>=1.21.1 in /opt/conda/lib/python3.10/site-packages (from requests->transformers) (1.26.18)\n",
      "Collecting joblib>=1.2.0 (from scikit-learn->sentence_transformers)\n",
      "  Downloading joblib-1.4.2-py3-none-any.whl.metadata (5.4 kB)\n",
      "Collecting threadpoolctl>=3.1.0 (from scikit-learn->sentence_transformers)\n",
      "  Downloading threadpoolctl-3.5.0-py3-none-any.whl.metadata (13 kB)\n",
      "Requirement already satisfied: MarkupSafe>=2.0 in /opt/conda/lib/python3.10/site-packages (from jinja2->torch>=1.11.0->sentence_transformers) (2.1.3)\n",
      "Requirement already satisfied: mpmath>=0.19 in /opt/conda/lib/python3.10/site-packages (from sympy->torch>=1.11.0->sentence_transformers) (1.3.0)\n",
      "Downloading sentence_transformers-3.0.1-py3-none-any.whl (227 kB)\n",
      "\u001b[2K   \u001b[90m━━━━━━━━━━━━━━━━━━━━━━━━━━━━━━━━━━━━━━━━\u001b[0m \u001b[32m227.1/227.1 kB\u001b[0m \u001b[31m18.0 MB/s\u001b[0m eta \u001b[36m0:00:00\u001b[0m\n",
      "\u001b[?25hDownloading scikit_learn-1.5.0-cp310-cp310-manylinux_2_17_x86_64.manylinux2014_x86_64.whl (13.3 MB)\n",
      "\u001b[2K   \u001b[90m━━━━━━━━━━━━━━━━━━━━━━━━━━━━━━━━━━━━━━━━\u001b[0m \u001b[32m13.3/13.3 MB\u001b[0m \u001b[31m123.1 MB/s\u001b[0m eta \u001b[36m0:00:00\u001b[0ma \u001b[36m0:00:01\u001b[0m\n",
      "\u001b[?25hDownloading scipy-1.13.1-cp310-cp310-manylinux_2_17_x86_64.manylinux2014_x86_64.whl (38.6 MB)\n",
      "\u001b[2K   \u001b[90m━━━━━━━━━━━━━━━━━━━━━━━━━━━━━━━━━━━━━━━━\u001b[0m \u001b[32m38.6/38.6 MB\u001b[0m \u001b[31m110.9 MB/s\u001b[0m eta \u001b[36m0:00:00\u001b[0m00:01\u001b[0m00:01\u001b[0m\n",
      "\u001b[?25hDownloading joblib-1.4.2-py3-none-any.whl (301 kB)\n",
      "\u001b[2K   \u001b[90m━━━━━━━━━━━━━━━━━━━━━━━━━━━━━━━━━━━━━━━━\u001b[0m \u001b[32m301.8/301.8 kB\u001b[0m \u001b[31m42.6 MB/s\u001b[0m eta \u001b[36m0:00:00\u001b[0m\n",
      "\u001b[?25hDownloading threadpoolctl-3.5.0-py3-none-any.whl (18 kB)\n",
      "Installing collected packages: threadpoolctl, scipy, joblib, scikit-learn, sentence_transformers\n",
      "Successfully installed joblib-1.4.2 scikit-learn-1.5.0 scipy-1.13.1 sentence_transformers-3.0.1 threadpoolctl-3.5.0\n",
      "\u001b[33mWARNING: Running pip as the 'root' user can result in broken permissions and conflicting behaviour with the system package manager. It is recommended to use a virtual environment instead: https://pip.pypa.io/warnings/venv\u001b[0m\u001b[33m\n",
      "\u001b[0m"
     ]
    }
   ],
   "source": [
    "! pip install openai transformers sentence_transformers"
   ]
  },
  {
   "cell_type": "code",
   "execution_count": 7,
   "id": "18648164-248a-425e-95c2-7f773b6f4a33",
   "metadata": {},
   "outputs": [],
   "source": [
    "from openai import OpenAI\n",
    "\n",
    "openai_client = OpenAI(api_key=OPEN_API_KEY)\n",
    "\n",
    "def get_text_query(query, model=\"text-embedding-3-small\"):\n",
    "    query = str(query).replace(\"\\n\", \" \")\n",
    "    embedd_query = openai_client.embeddings.create(input = [query], model=model).data[0].embedding\n",
    "    embedd_query_tensor = torch.tensor(np.array(embedd_query), dtype=torch.float32)\n",
    "    sim_tensor = util.dot_score(a=embedd_query_tensor, b=embed_tensor)\n",
    "    top_results = torch.topk(sim_tensor[0], k=5)\n",
    "    return top_results.values, top_results.indices\n",
    "    "
   ]
  },
  {
   "cell_type": "code",
   "execution_count": 23,
   "id": "4b4d87f3-ff18-4baa-b7ee-9c054bb4c636",
   "metadata": {},
   "outputs": [],
   "source": [
    "from sentence_transformers import util\n",
    "\n",
    "sim_tensor = util.dot_score(a=get_text_query(\"How does nutrition improve\"), b=embed_tensor)"
   ]
  },
  {
   "cell_type": "code",
   "execution_count": 24,
   "id": "557c2d61-cb7d-49b8-a06c-00f127bc74a3",
   "metadata": {},
   "outputs": [],
   "source": [
    "top_results = torch.topk(sim_tensor[0], k=5)"
   ]
  },
  {
   "cell_type": "code",
   "execution_count": 25,
   "id": "09a8bc7c-7cb6-4de8-9138-9a6690e99df3",
   "metadata": {},
   "outputs": [
    {
     "data": {
      "text/plain": [
       "torch.return_types.topk(\n",
       "values=tensor([0.5442, 0.5386, 0.5367, 0.5326, 0.5239]),\n",
       "indices=tensor([1657, 1323,   62, 1610, 1322]))"
      ]
     },
     "execution_count": 25,
     "metadata": {},
     "output_type": "execute_result"
    }
   ],
   "source": [
    "top_results"
   ]
  },
  {
   "cell_type": "code",
   "execution_count": 28,
   "id": "7542d563-1eb8-4136-aa06-0c91fdc3742b",
   "metadata": {
    "scrolled": true
   },
   "outputs": [
    {
     "name": "stdout",
     "output_type": "stream",
     "text": [
      "Working toward Tomorrow \n",
      "Whether you pursue nutrition as a career or simply work to improve \n",
      "your own dietary choices, what you have learned in this course can \n",
      "provide a solid foundation for the future. Remember, your ability to \n",
      "wake up, to think clearly, communicate, hope, dream, go to school, \n",
      "gain knowledge, and earn a living are totally dependent upon one \n",
      "factor—your health. Good health allows you to function normally \n",
      "and work hard to pursue your goals. Yet, achieving optimal health \n",
      "cannot be underestimated. It is a complex process, involving \n",
      "multiple dimensions of wellness, along with your physical or \n",
      "medical reality. The knowledge you have now acquired is also key.\n",
      "However, it is not enough to pass this nutrition class with good \n",
      "grades. Nutrition knowledge must be applied to make a difference \n",
      "in your life, throughout your life.\n",
      "Throughout this textbook, we have focused on the different \n",
      "aspects of nutrition science, which helps to optimize health and \n",
      "prevent disease. Scientific evidence provides the basis for dietary \n",
      "guidelines and recommendations.\n",
      "Bad habits and poor nutrition have an accrual effect. The foods \n",
      "you consume in your younger years will impact your health as you \n",
      "age, from childhood into the later stages of life. As a result, good \n",
      "nutrition today means optimal health tomorrow. Therefore, it is best \n",
      "to start making healthy choices from a young age and maintain them \n",
      "as you mature. However, a recent report published in the American \n",
      "Journal of Clinical Nutrition, suggests that adopting good nutritional \n",
      "choices later in life, during the forties, fifties, and even the sixties, \n",
      "may still help to reduce the risk of chronic disease as you grow \n",
      "older.8 \n",
      "8. Rivlin, RS. (2007). Keeping the Young-Elderly Healthy: Is \n",
      "Older Adulthood: The Golden Years | 927\n",
      "Image by \n",
      "John Towner \n",
      "on \n",
      "unsplash.co\n",
      "m / CC0 \n",
      "Lifestyles and Nutrition \n",
      "UNIVERSITY OF HAWAI‘I AT MĀNOA FOOD SCIENCE AND HUMAN \n",
      "NUTRITION PROGRAM AND HUMAN NUTRITION PROGRAM \n",
      "In addition to nutrition, health is affected by genetics, the \n",
      "environment, life cycle, and lifestyle. One facet of lifestyle is your \n",
      "dietary habits. Recall that we discussed briefly how nutrition affects \n",
      "health. A greater discussion of this will follow in subsequent \n",
      "chapters in this book, as there is an enormous amount of \n",
      "information regarding this aspect of lifestyle. Dietary habits include \n",
      "what a person eats, how much a person eats during a meal, how \n",
      "frequently meals are consumed, and how often a person eats out.\n",
      "Other aspects of lifestyle include physical activity level, recreational \n",
      "drug use, and sleeping patterns, all of which play a role in health and \n",
      "impact nutrition. Following a healthy lifestyle improves your overall \n",
      "health.\n",
      "Lifestyles and Nutrition | 21\n",
      "Disease Prevention and Management \n",
      "Eating fresh, healthy foods not only stimulates your taste buds, but \n",
      "also can improve your quality of life and help you to live longer.\n",
      "As discussed, food fuels your body and helps you to maintain a \n",
      "healthy weight. Nutrition also contributes to longevity and plays an \n",
      "important role in preventing a number of diseases and disorders, \n",
      "from obesity to cardiovascular disease. Some dietary changes can \n",
      "also help to manage certain chronic conditions, including high \n",
      "blood pressure and diabetes. A doctor or a nutritionist can provide \n",
      "guidance to determine the dietary changes needed to ensure and \n",
      "maintain your health.\n",
      "Learning Activities \n",
      "Technology Note: The second edition of the Human \n",
      "Nutrition Open Educational Resource (OER) textbook \n",
      "features interactive learning activities.  These activities are \n",
      "available in the web-based textbook and not available in the \n",
      "downloadable versions (EPUB, Digital PDF, Print_PDF, or \n",
      "Open Document).\n",
      "Learning activities may be used across various mobile \n",
      "devices, however, for the best user experience it is strongly \n",
      "recommended that users complete these activities using a \n",
      "desktop or laptop computer and in Google Chrome.\n",
      " \n",
      "Threats to Health | 1119\n",
      "live longer and healthier. Conversely, poor nutrition and a lack of \n",
      "exercise can shorten your life and lead to medical problems. The \n",
      "right foods provide numerous benefits at every stage of life. They \n",
      "help an infant grow, an adolescent develop mentally and physically, \n",
      "a young adult achieve his or her physical peak, and an older adult \n",
      "cope with aging. Nutritious foods form the foundation of a healthy \n",
      "life at every age.\n",
      "Developing Habits \n",
      "Eating habits develop early in life. They are typically formed within \n",
      "the first few years and it is believed that they persist for years, if \n",
      "not for life. So it is important for parents and other caregivers to \n",
      "help children establish healthy habits and avoid problematic ones.\n",
      "Children begin expressing their preferences at an early age. Parents \n",
      "must find a balance between providing a child with an opportunity \n",
      "for self-expression, helping a child develop healthy habits, and \n",
      "making sure that a child meets all of their nutritional needs.\n"
     ]
    }
   ],
   "source": [
    "for index in top_results.indices:\n",
    "    print(reloaded_data[index]['sentence_chunk'])"
   ]
  },
  {
   "cell_type": "code",
   "execution_count": 29,
   "id": "6a4df58f-26bd-46d4-bf85-cfbaac7a33f0",
   "metadata": {},
   "outputs": [
    {
     "data": {
      "application/vnd.jupyter.widget-view+json": {
       "model_id": "ed22d489885e45748dd73ef1974440a5",
       "version_major": 2,
       "version_minor": 0
      },
      "text/plain": [
       "tokenizer_config.json:   0%|          | 0.00/34.2k [00:00<?, ?B/s]"
      ]
     },
     "metadata": {},
     "output_type": "display_data"
    },
    {
     "data": {
      "application/vnd.jupyter.widget-view+json": {
       "model_id": "a752fd9600bf470eb4696fe8cebfda80",
       "version_major": 2,
       "version_minor": 0
      },
      "text/plain": [
       "tokenizer.model:   0%|          | 0.00/4.24M [00:00<?, ?B/s]"
      ]
     },
     "metadata": {},
     "output_type": "display_data"
    },
    {
     "data": {
      "application/vnd.jupyter.widget-view+json": {
       "model_id": "857b31d89c2748978a67817afb3acff7",
       "version_major": 2,
       "version_minor": 0
      },
      "text/plain": [
       "tokenizer.json:   0%|          | 0.00/17.5M [00:00<?, ?B/s]"
      ]
     },
     "metadata": {},
     "output_type": "display_data"
    },
    {
     "data": {
      "application/vnd.jupyter.widget-view+json": {
       "model_id": "319e2528a13a4c8b92e78f95dbd5a718",
       "version_major": 2,
       "version_minor": 0
      },
      "text/plain": [
       "special_tokens_map.json:   0%|          | 0.00/636 [00:00<?, ?B/s]"
      ]
     },
     "metadata": {},
     "output_type": "display_data"
    },
    {
     "data": {
      "application/vnd.jupyter.widget-view+json": {
       "model_id": "8cc10ade17394ebb8ec47e507d2d6ce2",
       "version_major": 2,
       "version_minor": 0
      },
      "text/plain": [
       "config.json:   0%|          | 0.00/694 [00:00<?, ?B/s]"
      ]
     },
     "metadata": {},
     "output_type": "display_data"
    },
    {
     "data": {
      "application/vnd.jupyter.widget-view+json": {
       "model_id": "4bef14bd3ebb438f87c1c3fd2200935c",
       "version_major": 2,
       "version_minor": 0
      },
      "text/plain": [
       "model.safetensors.index.json:   0%|          | 0.00/20.9k [00:00<?, ?B/s]"
      ]
     },
     "metadata": {},
     "output_type": "display_data"
    },
    {
     "data": {
      "application/vnd.jupyter.widget-view+json": {
       "model_id": "6fb1276cfc094b43b24ce4cc0af62be2",
       "version_major": 2,
       "version_minor": 0
      },
      "text/plain": [
       "Downloading shards:   0%|          | 0/4 [00:00<?, ?it/s]"
      ]
     },
     "metadata": {},
     "output_type": "display_data"
    },
    {
     "data": {
      "application/vnd.jupyter.widget-view+json": {
       "model_id": "b843616fd22b4ebf886a0c8e6016c06a",
       "version_major": 2,
       "version_minor": 0
      },
      "text/plain": [
       "model-00001-of-00004.safetensors:   0%|          | 0.00/5.00G [00:00<?, ?B/s]"
      ]
     },
     "metadata": {},
     "output_type": "display_data"
    },
    {
     "data": {
      "application/vnd.jupyter.widget-view+json": {
       "model_id": "8c9e0229f11742e9a088546d99daa09f",
       "version_major": 2,
       "version_minor": 0
      },
      "text/plain": [
       "model-00002-of-00004.safetensors:   0%|          | 0.00/4.98G [00:00<?, ?B/s]"
      ]
     },
     "metadata": {},
     "output_type": "display_data"
    },
    {
     "data": {
      "application/vnd.jupyter.widget-view+json": {
       "model_id": "258ecfc1feca40fdbb270788c7ab80b9",
       "version_major": 2,
       "version_minor": 0
      },
      "text/plain": [
       "model-00003-of-00004.safetensors:   0%|          | 0.00/4.98G [00:00<?, ?B/s]"
      ]
     },
     "metadata": {},
     "output_type": "display_data"
    },
    {
     "data": {
      "application/vnd.jupyter.widget-view+json": {
       "model_id": "07d762b5b4e043e6bae2121a9002c332",
       "version_major": 2,
       "version_minor": 0
      },
      "text/plain": [
       "model-00004-of-00004.safetensors:   0%|          | 0.00/2.11G [00:00<?, ?B/s]"
      ]
     },
     "metadata": {},
     "output_type": "display_data"
    },
    {
     "name": "stderr",
     "output_type": "stream",
     "text": [
      "`config.hidden_act` is ignored, you should use `config.hidden_activation` instead.\n",
      "Gemma's activation function will be set to `gelu_pytorch_tanh`. Please, use\n",
      "`config.hidden_activation` if you want to override this behaviour.\n",
      "See https://github.com/huggingface/transformers/pull/29402 for more details.\n"
     ]
    },
    {
     "data": {
      "application/vnd.jupyter.widget-view+json": {
       "model_id": "0fc80a0d4b9047a4a2f3002e03b183fe",
       "version_major": 2,
       "version_minor": 0
      },
      "text/plain": [
       "Loading checkpoint shards:   0%|          | 0/4 [00:00<?, ?it/s]"
      ]
     },
     "metadata": {},
     "output_type": "display_data"
    },
    {
     "data": {
      "application/vnd.jupyter.widget-view+json": {
       "model_id": "ef407d82f91d46318e56e44fde5fe1a7",
       "version_major": 2,
       "version_minor": 0
      },
      "text/plain": [
       "generation_config.json:   0%|          | 0.00/137 [00:00<?, ?B/s]"
      ]
     },
     "metadata": {},
     "output_type": "display_data"
    },
    {
     "name": "stderr",
     "output_type": "stream",
     "text": [
      "/opt/conda/lib/python3.10/site-packages/transformers/generation/utils.py:1168: UserWarning: Using the model-agnostic default `max_length` (=20) to control the generation length. We recommend setting `max_new_tokens` to control the maximum length of the generation.\n",
      "  warnings.warn(\n"
     ]
    },
    {
     "name": "stdout",
     "output_type": "stream",
     "text": [
      "<bos>Write me a poem about Machine Learning.\n",
      "\n",
      "In the realm of data, a tale unfolds,\n"
     ]
    }
   ],
   "source": [
    "# from transformers import AutoTokenizer, AutoModelForCausalLM\n",
    "# import torch\n",
    "\n",
    "# hf_token = \"hf_XXXXX-token-here-XXXX\n",
    "\n",
    "# tokenizer = AutoTokenizer.from_pretrained(\"google/gemma-7b-it\", token=hf_token)\n",
    "# model = AutoModelForCausalLM.from_pretrained(\n",
    "#     \"google/gemma-7b-it\",\n",
    "#     torch_dtype=torch.bfloat16,\n",
    "#     token = hf_token\n",
    "# )\n",
    "\n",
    "# input_text = \"Write me a poem about Machine Learning.\"\n",
    "# input_ids = tokenizer(input_text, return_tensors=\"pt\")\n",
    "\n",
    "# outputs = model.generate(**input_ids)\n",
    "# print(tokenizer.decode(outputs[0]))"
   ]
  },
  {
   "cell_type": "code",
   "execution_count": 30,
   "id": "cce70e0b-5470-4173-ab9c-d706e127bbd9",
   "metadata": {},
   "outputs": [
    {
     "data": {
      "text/plain": [
       "GemmaForCausalLM(\n",
       "  (model): GemmaModel(\n",
       "    (embed_tokens): Embedding(256000, 3072, padding_idx=0)\n",
       "    (layers): ModuleList(\n",
       "      (0-27): 28 x GemmaDecoderLayer(\n",
       "        (self_attn): GemmaSdpaAttention(\n",
       "          (q_proj): Linear(in_features=3072, out_features=4096, bias=False)\n",
       "          (k_proj): Linear(in_features=3072, out_features=4096, bias=False)\n",
       "          (v_proj): Linear(in_features=3072, out_features=4096, bias=False)\n",
       "          (o_proj): Linear(in_features=4096, out_features=3072, bias=False)\n",
       "          (rotary_emb): GemmaRotaryEmbedding()\n",
       "        )\n",
       "        (mlp): GemmaMLP(\n",
       "          (gate_proj): Linear(in_features=3072, out_features=24576, bias=False)\n",
       "          (up_proj): Linear(in_features=3072, out_features=24576, bias=False)\n",
       "          (down_proj): Linear(in_features=24576, out_features=3072, bias=False)\n",
       "          (act_fn): PytorchGELUTanh()\n",
       "        )\n",
       "        (input_layernorm): GemmaRMSNorm()\n",
       "        (post_attention_layernorm): GemmaRMSNorm()\n",
       "      )\n",
       "    )\n",
       "    (norm): GemmaRMSNorm()\n",
       "  )\n",
       "  (lm_head): Linear(in_features=3072, out_features=256000, bias=False)\n",
       ")"
      ]
     },
     "execution_count": 30,
     "metadata": {},
     "output_type": "execute_result"
    }
   ],
   "source": [
    "model.to(\"cuda:0\")"
   ]
  },
  {
   "cell_type": "code",
   "execution_count": 31,
   "id": "90290813-c55b-4e82-81cc-43b79e699f8f",
   "metadata": {},
   "outputs": [],
   "source": [
    "input_ids = tokenizer(input_text, return_tensors=\"pt\").to(\"cuda:0\")"
   ]
  },
  {
   "cell_type": "code",
   "execution_count": 32,
   "id": "7c112bfc-3016-4a16-9ee3-9b6624e82755",
   "metadata": {},
   "outputs": [
    {
     "name": "stderr",
     "output_type": "stream",
     "text": [
      "/opt/conda/lib/python3.10/site-packages/transformers/generation/utils.py:1168: UserWarning: Using the model-agnostic default `max_length` (=20) to control the generation length. We recommend setting `max_new_tokens` to control the maximum length of the generation.\n",
      "  warnings.warn(\n"
     ]
    },
    {
     "name": "stdout",
     "output_type": "stream",
     "text": [
      "<bos>Write me a poem about Machine Learning.\n",
      "\n",
      "In the realm of data, a tale unfolds,\n"
     ]
    }
   ],
   "source": [
    "outputs = model.generate(**input_ids)\n",
    "print(tokenizer.decode(outputs[0]))"
   ]
  },
  {
   "cell_type": "code",
   "execution_count": 13,
   "id": "5f05db76-e41f-4011-a383-8b02edba606a",
   "metadata": {},
   "outputs": [],
   "source": [
    "from sentence_transformers import util"
   ]
  },
  {
   "cell_type": "code",
   "execution_count": 14,
   "id": "f049580a-075a-499a-9805-e30bd560af3e",
   "metadata": {},
   "outputs": [
    {
     "data": {
      "text/plain": [
       "tensor([ 807,  811, 1268,  812,  805])"
      ]
     },
     "execution_count": 14,
     "metadata": {},
     "output_type": "execute_result"
    }
   ],
   "source": [
    "query = \"Provide which way can vitamin C be increased?\"\n",
    "\n",
    "_, top_results_index = get_text_query(query)\n",
    "\n",
    "top_results_index"
   ]
  },
  {
   "cell_type": "code",
   "execution_count": 15,
   "id": "bce2393a-1ab7-4553-8047-a26cb68545f6",
   "metadata": {},
   "outputs": [],
   "source": [
    "contents_list = [reloaded_data[index]['sentence_chunk'] for index in top_results_index]"
   ]
  },
  {
   "cell_type": "code",
   "execution_count": 16,
   "id": "c9226111-233a-4c5a-bb63-a456e7a1c3db",
   "metadata": {},
   "outputs": [],
   "source": [
    "chat_prompt2 = f\"\"\"\n",
    "Based on the following context items, please answer the query.\n",
    "Give yourself room to think by extracting relevant passages from the context before answering the query.\n",
    "Don't return the thinking, only return the answer.\n",
    "Make sure your answers are as explanatory as possible.\n",
    "Use the following examples as reference for the ideal answer style.\n",
    "Example 1:\n",
    "Query: What are the fat-soluble vitamins?\n",
    "Answer: The fat-soluble vitamins include Vitamin A, Vitamin D, Vitamin E, and Vitamin K. These vitamins are absorbed along with fats in the diet and can be stored in the body's fatty tissue and liver for later use. Vitamin A is important for vision, immune function, and skin health. Vitamin D plays a critical role in calcium absorption and bone health. Vitamin E acts as an antioxidant, protecting cells from damage. Vitamin K is essential for blood clotting and bone metabolism.\n",
    "\\nExample 2:\n",
    "Query: What are the causes of type 2 diabetes?\n",
    "Answer: Type 2 diabetes is often associated with overnutrition, particularly the overconsumption of calories leading to obesity. Factors include a diet high in refined sugars and saturated fats, which can lead to insulin resistance, a condition where the body's cells do not respond effectively to insulin. Over time, the pancreas cannot produce enough insulin to manage blood sugar levels, resulting in type 2 diabetes. Additionally, excessive caloric intake without sufficient physical activity exacerbates the risk by promoting weight gain and fat accumulation, particularly around the abdomen, further contributing to insulin resistance.\n",
    "\\nExample 3:\n",
    "Query: What is the importance of hydration for physical performance?\n",
    "Answer: Hydration is crucial for physical performance because water plays key roles in maintaining blood volume, regulating body temperature, and ensuring the transport of nutrients and oxygen to cells. Adequate hydration is essential for optimal muscle function, endurance, and recovery. Dehydration can lead to decreased performance, fatigue, and increased risk of heat-related illnesses, such as heat stroke. Drinking sufficient water before, during, and after exercise helps ensure peak physical performance and recovery.\n",
    "\\nNow use the following context items to answer the user query:\n",
    "<context1>{contents_list[0]}</context1>\n",
    "<context2>{contents_list[1]}</context2>\n",
    "<context3>{contents_list[2]}</context3>\n",
    "\\nRelevant passages: <extract relevant passages from the context here>\n",
    "User query: <query>{query}</query>\n",
    "Answer:\n",
    "\"\"\""
   ]
  },
  {
   "cell_type": "code",
   "execution_count": null,
   "id": "a346c5b9-a0de-412c-a3ed-a5a054033814",
   "metadata": {},
   "outputs": [],
   "source": [
    "chat_content = f\"\"\"\n",
    "based on the following context provided below answer the question\n",
    "<content1>{contents_list[0]}</content1>\n",
    "<content2>{contents_list[1]}</content2>\n",
    "<content3>{contents_list[2]}</content3>\n",
    "\n",
    "Query: {query}\n",
    "\"\"\""
   ]
  },
  {
   "cell_type": "code",
   "execution_count": 64,
   "id": "31648162-59fb-4712-b732-9946af154e87",
   "metadata": {},
   "outputs": [],
   "source": [
    "\n",
    "chat = [\n",
    "    { \"role\": \"user\", \"content\": chat_prompt2},\n",
    "]\n",
    "prompt = tokenizer.apply_chat_template(chat, tokenize=False, add_generation_prompt=True)"
   ]
  },
  {
   "cell_type": "code",
   "execution_count": 65,
   "id": "bb618525-0c26-456a-95db-07117101d6b8",
   "metadata": {},
   "outputs": [
    {
     "data": {
      "text/plain": [
       "\"<bos><start_of_turn>user\\nBased on the following context items, please answer the query.\\nGive yourself room to think by extracting relevant passages from the context before answering the query.\\nDon't return the thinking, only return the answer.\\nMake sure your answers are as explanatory as possible.\\nUse the following examples as reference for the ideal answer style.\\nExample 1:\\nQuery: What are the fat-soluble vitamins?\\nAnswer: The fat-soluble vitamins include Vitamin A, Vitamin D, Vitamin E, and Vitamin K. These vitamins are absorbed along with fats in the diet and can be stored in the body's fatty tissue and liver for later use. Vitamin A is important for vision, immune function, and skin health. Vitamin D plays a critical role in calcium absorption and bone health. Vitamin E acts as an antioxidant, protecting cells from damage. Vitamin K is essential for blood clotting and bone metabolism.\\n\\nExample 2:\\nQuery: What are the causes of type 2 diabetes?\\nAnswer: Type 2 diabetes is often associated with overnutrition, particularly the overconsumption of calories leading to obesity. Factors include a diet high in refined sugars and saturated fats, which can lead to insulin resistance, a condition where the body's cells do not respond effectively to insulin. Over time, the pancreas cannot produce enough insulin to manage blood sugar levels, resulting in type 2 diabetes. Additionally, excessive caloric intake without sufficient physical activity exacerbates the risk by promoting weight gain and fat accumulation, particularly around the abdomen, further contributing to insulin resistance.\\n\\nExample 3:\\nQuery: What is the importance of hydration for physical performance?\\nAnswer: Hydration is crucial for physical performance because water plays key roles in maintaining blood volume, regulating body temperature, and ensuring the transport of nutrients and oxygen to cells. Adequate hydration is essential for optimal muscle function, endurance, and recovery. Dehydration can lead to decreased performance, fatigue, and increased risk of heat-related illnesses, such as heat stroke. Drinking sufficient water before, during, and after exercise helps ensure peak physical performance and recovery.\\n\\nNow use the following context items to answer the user query:\\n<context1>and higher plasma vitamin C levels are linked to reduced risk of \\nsome chronic diseases. In a study involving over twenty thousand \\nparticipants, people with the highest levels of circulating vitamin C \\nhad a 42 percent decreased risk for having a stroke.2 \\nCancer \\nThere is some evidence that a higher vitamin C intake is linked to a \\nreduced risk of cancers of the mouth, throat, esophagus, stomach, \\ncolon, and lung, but not all studies confirm this is true. As with \\nthe studies on cardiovascular disease, the reduced risk of cancer \\nis the result of eating foods rich in vitamin C, such as fruits and \\nvegetables, not from taking vitamin C supplements. In these studies, \\nthe specific protective effects of vitamin C cannot be separated \\nfrom the many other beneficial chemicals in fruits and vegetables.\\nImmunity \\nVitamin C does have several roles in the immune system, and many \\npeople increase vitamin C intake either from diet or supplements \\nwhen they have a cold. Many others take vitamin C supplements \\n2.\\xa0Myint PK, et al. (2008). Plasma Vitamin C Concentrations \\nPredict Risk of Incident Stroke Over 10 Years in 20,649 \\nParticipants of the European Prospective Investigation \\ninto Cancer, Norfolk Prospective Population Study.\\nAmerican Journal of Clinical Nutrition,\\xa087(1), 64–69.</context1>\\n<context2>Dietary Sources of Vitamin C \\nCitrus fruits are great sources of vitamin C and so are many \\nvegetables. In fact, British sailors in the past were often referred \\nto as “limeys” as they carried sacks of limes onto ships to prevent \\nscurvy. Vitamin C is not found in significant amounts in animal-\\nbased foods.\\nBecause vitamin C is water-soluble, it leaches away from foods \\nconsiderably during cooking, freezing, thawing, and canning. Up to \\n50 percent of vitamin C can be boiled away. Therefore, to maximize \\nvitamin C intake from foods, you should eat fruits and vegetables \\nraw or lightly steamed. For the vitamin C content of various foods, \\nsee Table 9.12 “Vitamin C Content of Various Foods”.\\nTable 9.12 Vitamin C Content of Various Foods \\nFood \\nServing \\nVitamin C \\n(mg) \\nPercent Daily \\nValue \\nOrange juice \\n6 oz.\\n93 \\n155 \\nGrapefruit juice \\n6 oz.\\n70 \\n117 \\nOrange \\n1 medium \\n70 \\n117 \\nStrawberries \\n1 c. \\n85 \\n164 \\nTomato \\n1 medium \\n17 \\n28 \\nSweet red \\npepper \\n½ c. raw \\n95 \\n158 \\nBroccoli \\n½ c. cooked \\n51 \\n65 \\nRomaine lettuce \\n2 c. \\n28 \\n47 \\nCauliflower \\n1 c. boiled \\n55 \\n86 \\nPotato \\n1 medium, \\nbaked \\n17 \\n28 \\nSource: \\xa0Dietary Supplement Fact Sheet: Vitamin C. National \\nInstitutes \\nof \\nHealth, \\nOffice \\nof \\nDietary \\nSupplements.</context2>\\n<context3>Increased amounts of vitamin \\nC from orange juice and other sources can aid in iron absorption.\\nAlso, adequate fruit and vegetable intake allows for meeting vitamin \\nA needs. Table 14.3 “Micronutrient Levels during Older Adolescence” \\nshows the micronutrient recommendations for older adolescents, \\nwhich \\ndiffer \\nslightly \\nfor \\nmales \\nand \\nfemales, \\nunlike \\nthe \\nrecommendations for puberty.\\nTable 14.3 Micronutrient Levels during Older Adolescence \\n892 | Late Adolescence</context3>\\n\\nRelevant passages: <extract relevant passages from the context here>\\nUser query: <query>Provide which way can vitamin C be increased?</query>\\nAnswer:<end_of_turn>\\n<start_of_turn>model\\n\""
      ]
     },
     "execution_count": 65,
     "metadata": {},
     "output_type": "execute_result"
    }
   ],
   "source": [
    "prompt"
   ]
  },
  {
   "cell_type": "code",
   "execution_count": 66,
   "id": "da742f85-fa2a-470c-af2b-a1106eb3aa45",
   "metadata": {},
   "outputs": [
    {
     "name": "stdout",
     "output_type": "stream",
     "text": [
      "<bos><start_of_turn>user\n",
      "Based on the following context items, please answer the query.\n",
      "Give yourself room to think by extracting relevant passages from the context before answering the query.\n",
      "Don't return the thinking, only return the answer.\n",
      "Make sure your answers are as explanatory as possible.\n",
      "Use the following examples as reference for the ideal answer style.\n",
      "Example 1:\n",
      "Query: What are the fat-soluble vitamins?\n",
      "Answer: The fat-soluble vitamins include Vitamin A, Vitamin D, Vitamin E, and Vitamin K. These vitamins are absorbed along with fats in the diet and can be stored in the body's fatty tissue and liver for later use. Vitamin A is important for vision, immune function, and skin health. Vitamin D plays a critical role in calcium absorption and bone health. Vitamin E acts as an antioxidant, protecting cells from damage. Vitamin K is essential for blood clotting and bone metabolism.\n",
      "\n",
      "Example 2:\n",
      "Query: What are the causes of type 2 diabetes?\n",
      "Answer: Type 2 diabetes is often associated with overnutrition, particularly the overconsumption of calories leading to obesity. Factors include a diet high in refined sugars and saturated fats, which can lead to insulin resistance, a condition where the body's cells do not respond effectively to insulin. Over time, the pancreas cannot produce enough insulin to manage blood sugar levels, resulting in type 2 diabetes. Additionally, excessive caloric intake without sufficient physical activity exacerbates the risk by promoting weight gain and fat accumulation, particularly around the abdomen, further contributing to insulin resistance.\n",
      "\n",
      "Example 3:\n",
      "Query: What is the importance of hydration for physical performance?\n",
      "Answer: Hydration is crucial for physical performance because water plays key roles in maintaining blood volume, regulating body temperature, and ensuring the transport of nutrients and oxygen to cells. Adequate hydration is essential for optimal muscle function, endurance, and recovery. Dehydration can lead to decreased performance, fatigue, and increased risk of heat-related illnesses, such as heat stroke. Drinking sufficient water before, during, and after exercise helps ensure peak physical performance and recovery.\n",
      "\n",
      "Now use the following context items to answer the user query:\n",
      "<context1>and higher plasma vitamin C levels are linked to reduced risk of \n",
      "some chronic diseases. In a study involving over twenty thousand \n",
      "participants, people with the highest levels of circulating vitamin C \n",
      "had a 42 percent decreased risk for having a stroke.2 \n",
      "Cancer \n",
      "There is some evidence that a higher vitamin C intake is linked to a \n",
      "reduced risk of cancers of the mouth, throat, esophagus, stomach, \n",
      "colon, and lung, but not all studies confirm this is true. As with \n",
      "the studies on cardiovascular disease, the reduced risk of cancer \n",
      "is the result of eating foods rich in vitamin C, such as fruits and \n",
      "vegetables, not from taking vitamin C supplements. In these studies, \n",
      "the specific protective effects of vitamin C cannot be separated \n",
      "from the many other beneficial chemicals in fruits and vegetables.\n",
      "Immunity \n",
      "Vitamin C does have several roles in the immune system, and many \n",
      "people increase vitamin C intake either from diet or supplements \n",
      "when they have a cold. Many others take vitamin C supplements \n",
      "2. Myint PK, et al. (2008). Plasma Vitamin C Concentrations \n",
      "Predict Risk of Incident Stroke Over 10 Years in 20,649 \n",
      "Participants of the European Prospective Investigation \n",
      "into Cancer, Norfolk Prospective Population Study.\n",
      "American Journal of Clinical Nutrition, 87(1), 64–69.</context1>\n",
      "<context2>Dietary Sources of Vitamin C \n",
      "Citrus fruits are great sources of vitamin C and so are many \n",
      "vegetables. In fact, British sailors in the past were often referred \n",
      "to as “limeys” as they carried sacks of limes onto ships to prevent \n",
      "scurvy. Vitamin C is not found in significant amounts in animal-\n",
      "based foods.\n",
      "Because vitamin C is water-soluble, it leaches away from foods \n",
      "considerably during cooking, freezing, thawing, and canning. Up to \n",
      "50 percent of vitamin C can be boiled away. Therefore, to maximize \n",
      "vitamin C intake from foods, you should eat fruits and vegetables \n",
      "raw or lightly steamed. For the vitamin C content of various foods, \n",
      "see Table 9.12 “Vitamin C Content of Various Foods”.\n",
      "Table 9.12 Vitamin C Content of Various Foods \n",
      "Food \n",
      "Serving \n",
      "Vitamin C \n",
      "(mg) \n",
      "Percent Daily \n",
      "Value \n",
      "Orange juice \n",
      "6 oz.\n",
      "93 \n",
      "155 \n",
      "Grapefruit juice \n",
      "6 oz.\n",
      "70 \n",
      "117 \n",
      "Orange \n",
      "1 medium \n",
      "70 \n",
      "117 \n",
      "Strawberries \n",
      "1 c. \n",
      "85 \n",
      "164 \n",
      "Tomato \n",
      "1 medium \n",
      "17 \n",
      "28 \n",
      "Sweet red \n",
      "pepper \n",
      "½ c. raw \n",
      "95 \n",
      "158 \n",
      "Broccoli \n",
      "½ c. cooked \n",
      "51 \n",
      "65 \n",
      "Romaine lettuce \n",
      "2 c. \n",
      "28 \n",
      "47 \n",
      "Cauliflower \n",
      "1 c. boiled \n",
      "55 \n",
      "86 \n",
      "Potato \n",
      "1 medium, \n",
      "baked \n",
      "17 \n",
      "28 \n",
      "Source:  Dietary Supplement Fact Sheet: Vitamin C. National \n",
      "Institutes \n",
      "of \n",
      "Health, \n",
      "Office \n",
      "of \n",
      "Dietary \n",
      "Supplements.</context2>\n",
      "<context3>Increased amounts of vitamin \n",
      "C from orange juice and other sources can aid in iron absorption.\n",
      "Also, adequate fruit and vegetable intake allows for meeting vitamin \n",
      "A needs. Table 14.3 “Micronutrient Levels during Older Adolescence” \n",
      "shows the micronutrient recommendations for older adolescents, \n",
      "which \n",
      "differ \n",
      "slightly \n",
      "for \n",
      "males \n",
      "and \n",
      "females, \n",
      "unlike \n",
      "the \n",
      "recommendations for puberty.\n",
      "Table 14.3 Micronutrient Levels during Older Adolescence \n",
      "892 | Late Adolescence</context3>\n",
      "\n",
      "Relevant passages: <extract relevant passages from the context here>\n",
      "User query: <query>Provide which way can vitamin C be increased?</query>\n",
      "Answer:<end_of_turn>\n",
      "<start_of_turn>model\n",
      "**Relevant passages:**\n",
      "\n",
      "**<context2>Dietary Sources of Vitamin C**\n",
      "\n",
      "\"Because vitamin C is water-soluble, it leaches away from foods considerably during cooking, freezing, thawing, and canning. Up to 50 percent of vitamin C can be boiled away.\"\n",
      "\n",
      "**<context3>Increased amounts of vitamin C from orange juice and other sources can aid in iron absorption.**\n",
      "\n",
      "**User query:** Provide which way can vitamin C be increased?\n",
      "\n",
      "**Answer:**\n",
      "\n",
      "Increased amounts of vitamin C from orange juice and other sources can aid in iron absorption. Additionally, adequate fruit and vegetable intake allows for meeting vitamin A needs. To increase vitamin C intake, one can consume orange juice and other sources rich in vitamin C, such as fruits and vegetables.<eos>\n"
     ]
    }
   ],
   "source": [
    "inputs = tokenizer.encode(prompt, add_special_tokens=False, return_tensors=\"pt\")\n",
    "outputs = model.generate(input_ids=inputs.to(model.device), max_new_tokens=512)\n",
    "print(tokenizer.decode(outputs[0]))"
   ]
  },
  {
   "cell_type": "code",
   "execution_count": 70,
   "id": "16a3748d-7274-4ec7-bdec-1566bc1ef771",
   "metadata": {},
   "outputs": [],
   "source": [
    "torch.cuda.empty_cache()"
   ]
  },
  {
   "cell_type": "code",
   "execution_count": 11,
   "id": "b52f7c3a-bfc6-4a89-b60e-312872073b21",
   "metadata": {},
   "outputs": [
    {
     "name": "stdout",
     "output_type": "stream",
     "text": [
      "Looking in indexes: https://pypi.org/simple/\n",
      "Collecting bitsandbytes\n",
      "  Downloading bitsandbytes-0.43.1-py3-none-manylinux_2_24_x86_64.whl.metadata (2.2 kB)\n",
      "Requirement already satisfied: torch in /opt/conda/lib/python3.10/site-packages (from bitsandbytes) (2.2.0)\n",
      "Requirement already satisfied: numpy in /opt/conda/lib/python3.10/site-packages (from bitsandbytes) (1.26.3)\n",
      "Requirement already satisfied: filelock in /opt/conda/lib/python3.10/site-packages (from torch->bitsandbytes) (3.13.1)\n",
      "Requirement already satisfied: typing-extensions>=4.8.0 in /opt/conda/lib/python3.10/site-packages (from torch->bitsandbytes) (4.9.0)\n",
      "Requirement already satisfied: sympy in /opt/conda/lib/python3.10/site-packages (from torch->bitsandbytes) (1.12)\n",
      "Requirement already satisfied: networkx in /opt/conda/lib/python3.10/site-packages (from torch->bitsandbytes) (3.1)\n",
      "Requirement already satisfied: jinja2 in /opt/conda/lib/python3.10/site-packages (from torch->bitsandbytes) (3.1.2)\n",
      "Requirement already satisfied: fsspec in /opt/conda/lib/python3.10/site-packages (from torch->bitsandbytes) (2023.12.2)\n",
      "Requirement already satisfied: MarkupSafe>=2.0 in /opt/conda/lib/python3.10/site-packages (from jinja2->torch->bitsandbytes) (2.1.3)\n",
      "Requirement already satisfied: mpmath>=0.19 in /opt/conda/lib/python3.10/site-packages (from sympy->torch->bitsandbytes) (1.3.0)\n",
      "Downloading bitsandbytes-0.43.1-py3-none-manylinux_2_24_x86_64.whl (119.8 MB)\n",
      "\u001b[2K   \u001b[90m━━━━━━━━━━━━━━━━━━━━━━━━━━━━━━━━━━━━━━━━\u001b[0m \u001b[32m119.8/119.8 MB\u001b[0m \u001b[31m47.2 MB/s\u001b[0m eta \u001b[36m0:00:00\u001b[0m00:01\u001b[0m00:01\u001b[0m\n",
      "\u001b[?25hInstalling collected packages: bitsandbytes\n",
      "Successfully installed bitsandbytes-0.43.1\n",
      "\u001b[33mWARNING: Running pip as the 'root' user can result in broken permissions and conflicting behaviour with the system package manager. It is recommended to use a virtual environment instead: https://pip.pypa.io/warnings/venv\u001b[0m\u001b[33m\n",
      "\u001b[0m"
     ]
    }
   ],
   "source": [
    "!pip install accelerate\n",
    "!pip install -i https://pypi.org/simple/ bitsandbytes"
   ]
  },
  {
   "cell_type": "code",
   "execution_count": 8,
   "id": "b1ddad24-0fa5-41a3-95f8-902f65fabbde",
   "metadata": {},
   "outputs": [
    {
     "name": "stderr",
     "output_type": "stream",
     "text": [
      "`low_cpu_mem_usage` was None, now set to True since model is quantized.\n",
      "`config.hidden_act` is ignored, you should use `config.hidden_activation` instead.\n",
      "Gemma's activation function will be set to `gelu_pytorch_tanh`. Please, use\n",
      "`config.hidden_activation` if you want to override this behaviour.\n",
      "See https://github.com/huggingface/transformers/pull/29402 for more details.\n"
     ]
    },
    {
     "data": {
      "application/vnd.jupyter.widget-view+json": {
       "model_id": "a1d9c9fef71a4cf6805987c0cf488c5d",
       "version_major": 2,
       "version_minor": 0
      },
      "text/plain": [
       "Loading checkpoint shards:   0%|          | 0/4 [00:00<?, ?it/s]"
      ]
     },
     "metadata": {},
     "output_type": "display_data"
    }
   ],
   "source": [
    "from transformers import AutoTokenizer, AutoModelForCausalLM, BitsAndBytesConfig\n",
    "\n",
    "quantization_config = BitsAndBytesConfig(load_in_8bit=True)\n",
    "\n",
    "tokenizer = AutoTokenizer.from_pretrained(\"google/gemma-7b-it\")\n",
    "model = AutoModelForCausalLM.from_pretrained(\"google/gemma-7b-it\", quantization_config=quantization_config)\n"
   ]
  },
  {
   "cell_type": "code",
   "execution_count": 17,
   "id": "67dce7fd-0f8e-418c-a18e-e6ed682e38ae",
   "metadata": {},
   "outputs": [],
   "source": [
    "\n",
    "chat = [\n",
    "    { \"role\": \"user\", \"content\": chat_prompt2},\n",
    "]\n",
    "prompt = tokenizer.apply_chat_template(chat, tokenize=False, add_generation_prompt=True)"
   ]
  },
  {
   "cell_type": "code",
   "execution_count": 18,
   "id": "38e1b1f0-39dd-4603-bdf0-675f3dcd3cd5",
   "metadata": {},
   "outputs": [
    {
     "name": "stdout",
     "output_type": "stream",
     "text": [
      "<bos><start_of_turn>user\n",
      "Based on the following context items, please answer the query.\n",
      "Give yourself room to think by extracting relevant passages from the context before answering the query.\n",
      "Don't return the thinking, only return the answer.\n",
      "Make sure your answers are as explanatory as possible.\n",
      "Use the following examples as reference for the ideal answer style.\n",
      "Example 1:\n",
      "Query: What are the fat-soluble vitamins?\n",
      "Answer: The fat-soluble vitamins include Vitamin A, Vitamin D, Vitamin E, and Vitamin K. These vitamins are absorbed along with fats in the diet and can be stored in the body's fatty tissue and liver for later use. Vitamin A is important for vision, immune function, and skin health. Vitamin D plays a critical role in calcium absorption and bone health. Vitamin E acts as an antioxidant, protecting cells from damage. Vitamin K is essential for blood clotting and bone metabolism.\n",
      "\n",
      "Example 2:\n",
      "Query: What are the causes of type 2 diabetes?\n",
      "Answer: Type 2 diabetes is often associated with overnutrition, particularly the overconsumption of calories leading to obesity. Factors include a diet high in refined sugars and saturated fats, which can lead to insulin resistance, a condition where the body's cells do not respond effectively to insulin. Over time, the pancreas cannot produce enough insulin to manage blood sugar levels, resulting in type 2 diabetes. Additionally, excessive caloric intake without sufficient physical activity exacerbates the risk by promoting weight gain and fat accumulation, particularly around the abdomen, further contributing to insulin resistance.\n",
      "\n",
      "Example 3:\n",
      "Query: What is the importance of hydration for physical performance?\n",
      "Answer: Hydration is crucial for physical performance because water plays key roles in maintaining blood volume, regulating body temperature, and ensuring the transport of nutrients and oxygen to cells. Adequate hydration is essential for optimal muscle function, endurance, and recovery. Dehydration can lead to decreased performance, fatigue, and increased risk of heat-related illnesses, such as heat stroke. Drinking sufficient water before, during, and after exercise helps ensure peak physical performance and recovery.\n",
      "\n",
      "Now use the following context items to answer the user query:\n",
      "<context1>and higher plasma vitamin C levels are linked to reduced risk of \n",
      "some chronic diseases. In a study involving over twenty thousand \n",
      "participants, people with the highest levels of circulating vitamin C \n",
      "had a 42 percent decreased risk for having a stroke.2 \n",
      "Cancer \n",
      "There is some evidence that a higher vitamin C intake is linked to a \n",
      "reduced risk of cancers of the mouth, throat, esophagus, stomach, \n",
      "colon, and lung, but not all studies confirm this is true. As with \n",
      "the studies on cardiovascular disease, the reduced risk of cancer \n",
      "is the result of eating foods rich in vitamin C, such as fruits and \n",
      "vegetables, not from taking vitamin C supplements. In these studies, \n",
      "the specific protective effects of vitamin C cannot be separated \n",
      "from the many other beneficial chemicals in fruits and vegetables.\n",
      "Immunity \n",
      "Vitamin C does have several roles in the immune system, and many \n",
      "people increase vitamin C intake either from diet or supplements \n",
      "when they have a cold. Many others take vitamin C supplements \n",
      "2. Myint PK, et al. (2008). Plasma Vitamin C Concentrations \n",
      "Predict Risk of Incident Stroke Over 10 Years in 20,649 \n",
      "Participants of the European Prospective Investigation \n",
      "into Cancer, Norfolk Prospective Population Study.\n",
      "American Journal of Clinical Nutrition, 87(1), 64–69.</context1>\n",
      "<context2>Dietary Sources of Vitamin C \n",
      "Citrus fruits are great sources of vitamin C and so are many \n",
      "vegetables. In fact, British sailors in the past were often referred \n",
      "to as “limeys” as they carried sacks of limes onto ships to prevent \n",
      "scurvy. Vitamin C is not found in significant amounts in animal-\n",
      "based foods.\n",
      "Because vitamin C is water-soluble, it leaches away from foods \n",
      "considerably during cooking, freezing, thawing, and canning. Up to \n",
      "50 percent of vitamin C can be boiled away. Therefore, to maximize \n",
      "vitamin C intake from foods, you should eat fruits and vegetables \n",
      "raw or lightly steamed. For the vitamin C content of various foods, \n",
      "see Table 9.12 “Vitamin C Content of Various Foods”.\n",
      "Table 9.12 Vitamin C Content of Various Foods \n",
      "Food \n",
      "Serving \n",
      "Vitamin C \n",
      "(mg) \n",
      "Percent Daily \n",
      "Value \n",
      "Orange juice \n",
      "6 oz.\n",
      "93 \n",
      "155 \n",
      "Grapefruit juice \n",
      "6 oz.\n",
      "70 \n",
      "117 \n",
      "Orange \n",
      "1 medium \n",
      "70 \n",
      "117 \n",
      "Strawberries \n",
      "1 c. \n",
      "85 \n",
      "164 \n",
      "Tomato \n",
      "1 medium \n",
      "17 \n",
      "28 \n",
      "Sweet red \n",
      "pepper \n",
      "½ c. raw \n",
      "95 \n",
      "158 \n",
      "Broccoli \n",
      "½ c. cooked \n",
      "51 \n",
      "65 \n",
      "Romaine lettuce \n",
      "2 c. \n",
      "28 \n",
      "47 \n",
      "Cauliflower \n",
      "1 c. boiled \n",
      "55 \n",
      "86 \n",
      "Potato \n",
      "1 medium, \n",
      "baked \n",
      "17 \n",
      "28 \n",
      "Source:  Dietary Supplement Fact Sheet: Vitamin C. National \n",
      "Institutes \n",
      "of \n",
      "Health, \n",
      "Office \n",
      "of \n",
      "Dietary \n",
      "Supplements.</context2>\n",
      "<context3>Increased amounts of vitamin \n",
      "C from orange juice and other sources can aid in iron absorption.\n",
      "Also, adequate fruit and vegetable intake allows for meeting vitamin \n",
      "A needs. Table 14.3 “Micronutrient Levels during Older Adolescence” \n",
      "shows the micronutrient recommendations for older adolescents, \n",
      "which \n",
      "differ \n",
      "slightly \n",
      "for \n",
      "males \n",
      "and \n",
      "females, \n",
      "unlike \n",
      "the \n",
      "recommendations for puberty.\n",
      "Table 14.3 Micronutrient Levels during Older Adolescence \n",
      "892 | Late Adolescence</context3>\n",
      "\n",
      "Relevant passages: <extract relevant passages from the context here>\n",
      "User query: <query>Provide which way can vitamin C be increased?</query>\n",
      "Answer:<end_of_turn>\n",
      "<start_of_turn>model\n",
      "**Relevant passages:**\n",
      "\n",
      "**<context2>Dietary Sources of Vitamin C**\n",
      "\n",
      "\"Because vitamin C is water-soluble, it leaches away from foods considerably during cooking, freezing, thawing, and canning. Up to 50 percent of vitamin C can be boiled away.\"\n",
      "\n",
      "**<context3>Increased amounts of vitamin C from orange juice and other sources can aid in iron absorption.**\n",
      "\n",
      "**User query:** Provide which way can vitamin C be increased?\n",
      "\n",
      "**Answer:**\n",
      "\n",
      "Increased amounts of vitamin C from orange juice and other sources can aid in iron absorption. Additionally, adequate fruit and vegetable intake allows for meeting vitamin A needs. To increase vitamin C intake, one can consume orange juice and other sources rich in vitamin C, such as fruits and vegetables.<eos>\n"
     ]
    }
   ],
   "source": [
    "inputs = tokenizer.encode(prompt, add_special_tokens=False, return_tensors=\"pt\")\n",
    "outputs = model.generate(input_ids=inputs.to(model.device), max_new_tokens=512)\n",
    "print(tokenizer.decode(outputs[0]))"
   ]
  }
 ],
 "metadata": {
  "kernelspec": {
   "display_name": "Python 3 (ipykernel)",
   "language": "python",
   "name": "python3"
  },
  "language_info": {
   "codemirror_mode": {
    "name": "ipython",
    "version": 3
   },
   "file_extension": ".py",
   "mimetype": "text/x-python",
   "name": "python",
   "nbconvert_exporter": "python",
   "pygments_lexer": "ipython3",
   "version": "3.10.13"
  }
 },
 "nbformat": 4,
 "nbformat_minor": 5
}
